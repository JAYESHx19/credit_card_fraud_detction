{
 "cells": [
  {
   "cell_type": "code",
   "execution_count": null,
   "id": "23ba290b-bc04-485a-a97e-4bb5112cd4a7",
   "metadata": {},
   "outputs": [],
   "source": [
    "# Credit Card Fraud Detection\n",
    "\n",
    "# 📌 Import Libraries\n",
    "import pandas as pd\n",
    "import numpy as np\n",
    "import matplotlib.pyplot as plt\n",
    "import seaborn as sns\n",
    "\n",
    "from sklearn.model_selection import train_test_split, StratifiedKFold, GridSearchCV\n",
    "from sklearn.preprocessing import StandardScaler\n",
    "from sklearn.linear_model import LogisticRegression\n",
    "from sklearn.ensemble import RandomForestClassifier\n",
    "from sklearn.metrics import confusion_matrix, classification_report, roc_auc_score, roc_curve, precision_recall_curve\n",
    "\n",
    "# 📌 Load Dataset\n",
    "data = pd.read_csv(\"creditcard.csv\")\n",
    "\n",
    "# 📌 Data Exploration\n",
    "print(data.head())\n",
    "print(data.info())\n",
    "print(data['Class'].value_counts())"
   ]
  },
  {
   "cell_type": "code",
   "execution_count": null,
   "id": "aa9f7357-0e64-40e2-9d86-04e8d3fb8645",
   "metadata": {},
   "outputs": [],
   "source": [
    "# 📌 Visualize Class Distribution\n",
    "plt.figure(figsize=(6,4))\n",
    "sns.countplot(x='Class', data=data)\n",
    "plt.title('Class Distribution (0 = Non-Fraud, 1 = Fraud)')\n",
    "plt.show()\n"
   ]
  },
  {
   "cell_type": "code",
   "execution_count": null,
   "id": "1b4bffbf-480c-4e26-9f9f-3ea00e04bec0",
   "metadata": {},
   "outputs": [],
   "source": [
    "# 📌 Transaction Amount Distribution for Fraud vs Non-Fraud\n",
    "plt.figure(figsize=(10,6))\n",
    "sns.histplot(data[data['Class']==0]['Amount'], bins=50, color='green', label='Non-Fraud', alpha=0.6)\n",
    "sns.histplot(data[data['Class']==1]['Amount'], bins=50, color='red', label='Fraud', alpha=0.6)\n",
    "plt.legend()\n",
    "plt.title('Transaction Amount Distribution')\n",
    "plt.xlabel('Amount')\n",
    "plt.ylabel('Frequency')\n",
    "plt.show()"
   ]
  },
  {
   "cell_type": "code",
   "execution_count": null,
   "id": "84d0121e-4fdc-4d99-9105-1f33d4ecdc88",
   "metadata": {},
   "outputs": [],
   "source": [
    "# 📌 Data Preprocessing\n",
    "# Drop Time column\n",
    "data = data.drop(['Time'], axis=1)\n",
    "\n",
    "# Scale Amount column\n",
    "scaler = StandardScaler()\n",
    "data['Amount'] = scaler.fit_transform(data[['Amount']])\n"
   ]
  },
  {
   "cell_type": "code",
   "execution_count": null,
   "id": "5014c96b-2d3d-4037-b3b1-9c989cd7a388",
   "metadata": {},
   "outputs": [],
   "source": [
    "# 📌 Split Data\n",
    "X = data.drop('Class', axis=1)\n",
    "y = data['Class']\n",
    "\n",
    "X_train, X_test, y_train, y_test = train_test_split(X, y, test_size=0.3, stratify=y, random_state=42)\n",
    "\n",
    "# 📌 Model Training: Logistic Regression\n",
    "lr = LogisticRegression(max_iter=1000)\n",
    "lr.fit(X_train, y_train)\n",
    "y_pred_lr = lr.predict(X_test)\n",
    "y_prob_lr = lr.predict_proba(X_test)[:,1]\n"
   ]
  },
  {
   "cell_type": "code",
   "execution_count": null,
   "id": "01b7ee00-2044-4dba-812f-58d14e1aaf8f",
   "metadata": {},
   "outputs": [],
   "source": [
    "# 📌 Model Training: Random Forest\n",
    "rf = RandomForestClassifier(n_estimators=100, random_state=42)\n",
    "rf.fit(X_train, y_train)\n",
    "y_pred_rf = rf.predict(X_test)\n",
    "y_prob_rf = rf.predict_proba(X_test)[:,1]\n"
   ]
  },
  {
   "cell_type": "code",
   "execution_count": null,
   "id": "c2337c1d-4717-47ac-9e60-d33d9e82662e",
   "metadata": {},
   "outputs": [],
   "source": [
    "# 📌 Evaluation Function\n",
    "def evaluate_model(y_test, y_pred, y_prob, model_name):\n",
    "    print(f\"---- {model_name} ----\")\n",
    "    print(classification_report(y_test, y_pred))\n",
    "    print(\"ROC AUC Score:\", roc_auc_score(y_test, y_prob))\n",
    "    \n",
    "    # Confusion Matrix Heatmap\n",
    "    cm = confusion_matrix(y_test, y_pred)\n",
    "    plt.figure(figsize=(5,4))\n",
    "    sns.heatmap(cm, annot=True, fmt='d', cmap='Blues')\n",
    "    plt.title(f'{model_name} Confusion Matrix')\n",
    "    plt.xlabel('Predicted')\n",
    "    plt.ylabel('Actual')\n",
    "    plt.show()\n",
    "\n",
    "# 📌 Evaluate Logistic Regression\n",
    "evaluate_model(y_test, y_pred_lr, y_prob_lr, \"Logistic Regression\")\n"
   ]
  },
  {
   "cell_type": "code",
   "execution_count": null,
   "id": "63093235-6bcd-43ad-8d93-7cf077ea79fb",
   "metadata": {},
   "outputs": [],
   "source": [
    "# 📌 Evaluate Random Forest\n",
    "evaluate_model(y_test, y_pred_rf, y_prob_rf, \"Random Forest\")\n",
    "\n",
    "# 📌 ROC Curve for Both Models\n",
    "fpr_lr, tpr_lr, _ = roc_curve(y_test, y_prob_lr)\n",
    "fpr_rf, tpr_rf, _ = roc_curve(y_test, y_prob_rf)\n",
    "\n",
    "plt.figure(figsize=(8,6))\n",
    "plt.plot(fpr_lr, tpr_lr, label='Logistic Regression')\n",
    "plt.plot(fpr_rf, tpr_rf, label='Random Forest')\n",
    "plt.plot([0,1],[0,1],'k--')\n",
    "plt.title('ROC Curve')\n",
    "plt.xlabel('False Positive Rate')\n",
    "plt.ylabel('True Positive Rate')\n",
    "plt.legend()\n",
    "plt.show()\n"
   ]
  },
  {
   "cell_type": "code",
   "execution_count": null,
   "id": "2a5af015-baea-42e6-b3e1-ad1d9fb4e19d",
   "metadata": {},
   "outputs": [],
   "source": [
    "# 📌 Precision-Recall Curve for Both Models\n",
    "precision_lr, recall_lr, _ = precision_recall_curve(y_test, y_prob_lr)\n",
    "precision_rf, recall_rf, _ = precision_recall_curve(y_test, y_prob_rf)\n",
    "\n",
    "plt.figure(figsize=(8,6))\n",
    "plt.plot(recall_lr, precision_lr, label='Logistic Regression')\n",
    "plt.plot(recall_rf, precision_rf, label='Random Forest')\n",
    "plt.title('Precision-Recall Curve')\n",
    "plt.xlabel('Recall')\n",
    "plt.ylabel('Precision')\n",
    "plt.legend()\n",
    "plt.show()\n"
   ]
  }
 ],
 "metadata": {
  "kernelspec": {
   "display_name": "Python 3 (ipykernel)",
   "language": "python",
   "name": "python3"
  },
  "language_info": {
   "codemirror_mode": {
    "name": "ipython",
    "version": 3
   },
   "file_extension": ".py",
   "mimetype": "text/x-python",
   "name": "python",
   "nbconvert_exporter": "python",
   "pygments_lexer": "ipython3",
   "version": "3.13.5"
  }
 },
 "nbformat": 4,
 "nbformat_minor": 5
}
